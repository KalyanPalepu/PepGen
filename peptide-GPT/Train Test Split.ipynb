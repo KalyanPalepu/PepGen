{
 "cells": [
  {
   "cell_type": "code",
   "execution_count": 1,
   "id": "5192696b",
   "metadata": {},
   "outputs": [],
   "source": [
    "import pandas as pd"
   ]
  },
  {
   "cell_type": "code",
   "execution_count": 2,
   "id": "629b6636",
   "metadata": {},
   "outputs": [],
   "source": [
    "import ast"
   ]
  },
  {
   "cell_type": "code",
   "execution_count": 7,
   "id": "55cc0a59",
   "metadata": {},
   "outputs": [],
   "source": [
    "from random import shuffle"
   ]
  },
  {
   "cell_type": "code",
   "execution_count": 22,
   "id": "7e6de776",
   "metadata": {},
   "outputs": [],
   "source": [
    "from math import floor"
   ]
  },
  {
   "cell_type": "code",
   "execution_count": 3,
   "id": "ceb8001d",
   "metadata": {},
   "outputs": [],
   "source": [
    "from sklearn.model_selection import train_test_split"
   ]
  },
  {
   "cell_type": "code",
   "execution_count": 31,
   "id": "01cac333",
   "metadata": {},
   "outputs": [],
   "source": [
    "import pickle"
   ]
  },
  {
   "cell_type": "code",
   "execution_count": 4,
   "id": "5d678a03",
   "metadata": {},
   "outputs": [],
   "source": [
    "regions = pd.read_csv(\"../../data/propedia/parsing/binding_regions.csv\")"
   ]
  },
  {
   "cell_type": "code",
   "execution_count": 25,
   "id": "9cd058ce",
   "metadata": {},
   "outputs": [],
   "source": [
    "pdb_names = list(regions.pdb_name.unique())\n",
    "shuffle(pdb_names)"
   ]
  },
  {
   "cell_type": "code",
   "execution_count": 30,
   "id": "ce0bb9dc",
   "metadata": {},
   "outputs": [],
   "source": [
    "train_idx = floor(len(pdb_names) * 0.8)\n",
    "val_idx = floor(len(pdb_names) * 0.9)\n",
    "test_idx = len(pdb_names)\n",
    "\n",
    "train_pdbs = pdb_names[:train_idx]\n",
    "val_pdbs = pdb_names[train_idx:val_idx]\n",
    "test_pdbs = pdb_names[val_idx:test_idx]"
   ]
  },
  {
   "cell_type": "code",
   "execution_count": 33,
   "id": "fe8b18f8",
   "metadata": {},
   "outputs": [],
   "source": [
    "with open(\"splits.pkl\", \"wb\") as f:\n",
    "    pickle.dump([train_pdbs, val_pdbs, test_pdbs], f)"
   ]
  },
  {
   "cell_type": "code",
   "execution_count": 35,
   "id": "88610b04",
   "metadata": {},
   "outputs": [],
   "source": [
    "train_df = regions[regions.pdb_name.isin(train_pdbs)]\n",
    "test_df = regions[regions.pdb_name.isin(test_pdbs)]\n",
    "val_df = regions[regions.pdb_name.isin(val_pdbs)]"
   ]
  },
  {
   "cell_type": "code",
   "execution_count": null,
   "id": "44f3d326",
   "metadata": {},
   "outputs": [],
   "source": []
  },
  {
   "cell_type": "code",
   "execution_count": 64,
   "id": "b79cdf3c",
   "metadata": {},
   "outputs": [
    {
     "data": {
      "text/plain": [
       "11879"
      ]
     },
     "execution_count": 64,
     "metadata": {},
     "output_type": "execute_result"
    }
   ],
   "source": [
    "sum(~regions.duplicated(subset=[\"peptide_seq\", \"partner_seq\"], keep=\"first\"))"
   ]
  },
  {
   "cell_type": "code",
   "execution_count": 62,
   "id": "e7064b6d",
   "metadata": {},
   "outputs": [
    {
     "data": {
      "text/plain": [
       "4354"
      ]
     },
     "execution_count": 62,
     "metadata": {},
     "output_type": "execute_result"
    }
   ],
   "source": [
    "sum(~(regions.duplicated(subset=[\"peptide_seq\"], keep=\"first\") | regions.duplicated(subset=[\"partner_seq\"], keep=\"first\")))\n",
    "\n",
    "\n"
   ]
  },
  {
   "cell_type": "code",
   "execution_count": 65,
   "id": "0077c393",
   "metadata": {},
   "outputs": [
    {
     "data": {
      "text/plain": [
       "7133"
      ]
     },
     "execution_count": 65,
     "metadata": {},
     "output_type": "execute_result"
    }
   ],
   "source": [
    "sum(~regions.duplicated(subset=[\"partner_seq\"], keep=\"first\"))"
   ]
  },
  {
   "cell_type": "code",
   "execution_count": 68,
   "id": "baafdaab",
   "metadata": {},
   "outputs": [
    {
     "data": {
      "text/plain": [
       "11879"
      ]
     },
     "execution_count": 68,
     "metadata": {},
     "output_type": "execute_result"
    }
   ],
   "source": [
    "len(regions[~regions.duplicated(subset=[\"peptide_seq\", \"partner_seq\"], keep=\"first\")])"
   ]
  },
  {
   "cell_type": "code",
   "execution_count": 71,
   "id": "5c338293",
   "metadata": {},
   "outputs": [
    {
     "data": {
      "text/html": [
       "<div>\n",
       "<style scoped>\n",
       "    .dataframe tbody tr th:only-of-type {\n",
       "        vertical-align: middle;\n",
       "    }\n",
       "\n",
       "    .dataframe tbody tr th {\n",
       "        vertical-align: top;\n",
       "    }\n",
       "\n",
       "    .dataframe thead th {\n",
       "        text-align: right;\n",
       "    }\n",
       "</style>\n",
       "<table border=\"1\" class=\"dataframe\">\n",
       "  <thead>\n",
       "    <tr style=\"text-align: right;\">\n",
       "      <th></th>\n",
       "      <th>propedia_id</th>\n",
       "      <th>pdb_name</th>\n",
       "      <th>peptide_chain</th>\n",
       "      <th>partner_chain</th>\n",
       "      <th>peptide_seq</th>\n",
       "      <th>partner_seq</th>\n",
       "      <th>binding_region_indices</th>\n",
       "      <th>closure_region_indices</th>\n",
       "      <th>closure_region_seq</th>\n",
       "    </tr>\n",
       "  </thead>\n",
       "  <tbody>\n",
       "    <tr>\n",
       "      <th>1249</th>\n",
       "      <td>6eo8_L_H</td>\n",
       "      <td>6eo8</td>\n",
       "      <td>L</td>\n",
       "      <td>H</td>\n",
       "      <td>ADCGLRPLFEKKSLEDKTERELLESY</td>\n",
       "      <td>QPSVLQVVNLPIVERPVCKDSTRIRITDNMFCAGYKPDEGKRGDAC...</td>\n",
       "      <td>[20, 23, 24, 25, 26, 27, 28, 29, 47, 114, 115,...</td>\n",
       "      <td>(20, 301)</td>\n",
       "      <td>STRIRITDNMFCAGYKPDEGKRGDACEGDSGGPFVMKSPFNNRWYQ...</td>\n",
       "    </tr>\n",
       "    <tr>\n",
       "      <th>9542</th>\n",
       "      <td>6eo8_I_H</td>\n",
       "      <td>6eo8</td>\n",
       "      <td>I</td>\n",
       "      <td>H</td>\n",
       "      <td>DFEEIPEEXL</td>\n",
       "      <td>QPSVLQVVNLPIVERPVCKDSTRIRITDNMFCAGYKPDEGKRGDAC...</td>\n",
       "      <td>[32, 34, 36, 36, 38, 39, 40, 65, 67, 73, 74, 7...</td>\n",
       "      <td>(32, 151)</td>\n",
       "      <td>AGYKPDEGKRGDACEGDSGGPFVMKSPFNNRWYQMGIVSWGEGCDR...</td>\n",
       "    </tr>\n",
       "  </tbody>\n",
       "</table>\n",
       "</div>"
      ],
      "text/plain": [
       "     propedia_id pdb_name peptide_chain partner_chain  \\\n",
       "1249    6eo8_L_H     6eo8             L             H   \n",
       "9542    6eo8_I_H     6eo8             I             H   \n",
       "\n",
       "                     peptide_seq  \\\n",
       "1249  ADCGLRPLFEKKSLEDKTERELLESY   \n",
       "9542                  DFEEIPEEXL   \n",
       "\n",
       "                                            partner_seq  \\\n",
       "1249  QPSVLQVVNLPIVERPVCKDSTRIRITDNMFCAGYKPDEGKRGDAC...   \n",
       "9542  QPSVLQVVNLPIVERPVCKDSTRIRITDNMFCAGYKPDEGKRGDAC...   \n",
       "\n",
       "                                 binding_region_indices  \\\n",
       "1249  [20, 23, 24, 25, 26, 27, 28, 29, 47, 114, 115,...   \n",
       "9542  [32, 34, 36, 36, 38, 39, 40, 65, 67, 73, 74, 7...   \n",
       "\n",
       "     closure_region_indices                                 closure_region_seq  \n",
       "1249              (20, 301)  STRIRITDNMFCAGYKPDEGKRGDACEGDSGGPFVMKSPFNNRWYQ...  \n",
       "9542              (32, 151)  AGYKPDEGKRGDACEGDSGGPFVMKSPFNNRWYQMGIVSWGEGCDR...  "
      ]
     },
     "execution_count": 71,
     "metadata": {},
     "output_type": "execute_result"
    }
   ],
   "source": [
    "train_df[train_df[\"pdb_name\"] == \"6eo8\"]"
   ]
  },
  {
   "cell_type": "code",
   "execution_count": 47,
   "id": "d8d8150e",
   "metadata": {},
   "outputs": [
    {
     "data": {
      "text/plain": [
       "1103"
      ]
     },
     "execution_count": 47,
     "metadata": {},
     "output_type": "execute_result"
    }
   ],
   "source": [
    "val_df[\"peptide_seq\"].duplicated()"
   ]
  },
  {
   "cell_type": "code",
   "execution_count": null,
   "id": "13ff9027",
   "metadata": {},
   "outputs": [],
   "source": []
  }
 ],
 "metadata": {
  "kernelspec": {
   "display_name": "Python 3 (ipykernel)",
   "language": "python",
   "name": "python3"
  },
  "language_info": {
   "codemirror_mode": {
    "name": "ipython",
    "version": 3
   },
   "file_extension": ".py",
   "mimetype": "text/x-python",
   "name": "python",
   "nbconvert_exporter": "python",
   "pygments_lexer": "ipython3",
   "version": "3.9.9"
  }
 },
 "nbformat": 4,
 "nbformat_minor": 5
}
